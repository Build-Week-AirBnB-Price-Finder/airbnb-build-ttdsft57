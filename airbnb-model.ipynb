{
 "cells": [
  {
   "cell_type": "code",
   "execution_count": 87,
   "metadata": {},
   "outputs": [],
   "source": [
    "import pandas as pd\n",
    "import numpy as np\n",
    "from category_encoders import OrdinalEncoder\n",
    "from sklearn.impute import SimpleImputer\n",
    "from sklearn.pipeline import make_pipeline\n",
    "from sklearn.ensemble import RandomForestRegressor\n",
    "from sklearn.model_selection import cross_val_score, train_test_split, GridSearchCV\n",
    "import matplotlib.pyplot as plt\n",
    "from joblib import dump, load\n",
    "from geopy.geocoders import Nominatim"
   ]
  },
  {
   "cell_type": "code",
   "execution_count": 88,
   "metadata": {},
   "outputs": [],
   "source": [
    "df = pd.read_csv('train.csv')"
   ]
  },
  {
   "cell_type": "code",
   "execution_count": 89,
   "metadata": {},
   "outputs": [
    {
     "data": {
      "text/html": [
       "<div>\n",
       "<style scoped>\n",
       "    .dataframe tbody tr th:only-of-type {\n",
       "        vertical-align: middle;\n",
       "    }\n",
       "\n",
       "    .dataframe tbody tr th {\n",
       "        vertical-align: top;\n",
       "    }\n",
       "\n",
       "    .dataframe thead th {\n",
       "        text-align: right;\n",
       "    }\n",
       "</style>\n",
       "<table border=\"1\" class=\"dataframe\">\n",
       "  <thead>\n",
       "    <tr style=\"text-align: right;\">\n",
       "      <th></th>\n",
       "      <th>id</th>\n",
       "      <th>log_price</th>\n",
       "      <th>property_type</th>\n",
       "      <th>room_type</th>\n",
       "      <th>amenities</th>\n",
       "      <th>accommodates</th>\n",
       "      <th>bathrooms</th>\n",
       "      <th>bed_type</th>\n",
       "      <th>cancellation_policy</th>\n",
       "      <th>cleaning_fee</th>\n",
       "      <th>...</th>\n",
       "      <th>latitude</th>\n",
       "      <th>longitude</th>\n",
       "      <th>name</th>\n",
       "      <th>neighbourhood</th>\n",
       "      <th>number_of_reviews</th>\n",
       "      <th>review_scores_rating</th>\n",
       "      <th>thumbnail_url</th>\n",
       "      <th>zipcode</th>\n",
       "      <th>bedrooms</th>\n",
       "      <th>beds</th>\n",
       "    </tr>\n",
       "  </thead>\n",
       "  <tbody>\n",
       "    <tr>\n",
       "      <th>0</th>\n",
       "      <td>6901257</td>\n",
       "      <td>5.010635</td>\n",
       "      <td>Apartment</td>\n",
       "      <td>Entire home/apt</td>\n",
       "      <td>{\"Wireless Internet\",\"Air conditioning\",Kitche...</td>\n",
       "      <td>3</td>\n",
       "      <td>1.0</td>\n",
       "      <td>Real Bed</td>\n",
       "      <td>strict</td>\n",
       "      <td>True</td>\n",
       "      <td>...</td>\n",
       "      <td>40.696524</td>\n",
       "      <td>-73.991617</td>\n",
       "      <td>Beautiful brownstone 1-bedroom</td>\n",
       "      <td>Brooklyn Heights</td>\n",
       "      <td>2</td>\n",
       "      <td>100.0</td>\n",
       "      <td>https://a0.muscache.com/im/pictures/6d7cbbf7-c...</td>\n",
       "      <td>11201</td>\n",
       "      <td>1.0</td>\n",
       "      <td>1.0</td>\n",
       "    </tr>\n",
       "    <tr>\n",
       "      <th>1</th>\n",
       "      <td>6304928</td>\n",
       "      <td>5.129899</td>\n",
       "      <td>Apartment</td>\n",
       "      <td>Entire home/apt</td>\n",
       "      <td>{\"Wireless Internet\",\"Air conditioning\",Kitche...</td>\n",
       "      <td>7</td>\n",
       "      <td>1.0</td>\n",
       "      <td>Real Bed</td>\n",
       "      <td>strict</td>\n",
       "      <td>True</td>\n",
       "      <td>...</td>\n",
       "      <td>40.766115</td>\n",
       "      <td>-73.989040</td>\n",
       "      <td>Superb 3BR Apt Located Near Times Square</td>\n",
       "      <td>Hell's Kitchen</td>\n",
       "      <td>6</td>\n",
       "      <td>93.0</td>\n",
       "      <td>https://a0.muscache.com/im/pictures/348a55fe-4...</td>\n",
       "      <td>10019</td>\n",
       "      <td>3.0</td>\n",
       "      <td>3.0</td>\n",
       "    </tr>\n",
       "    <tr>\n",
       "      <th>2</th>\n",
       "      <td>7919400</td>\n",
       "      <td>4.976734</td>\n",
       "      <td>Apartment</td>\n",
       "      <td>Entire home/apt</td>\n",
       "      <td>{TV,\"Cable TV\",\"Wireless Internet\",\"Air condit...</td>\n",
       "      <td>5</td>\n",
       "      <td>1.0</td>\n",
       "      <td>Real Bed</td>\n",
       "      <td>moderate</td>\n",
       "      <td>True</td>\n",
       "      <td>...</td>\n",
       "      <td>40.808110</td>\n",
       "      <td>-73.943756</td>\n",
       "      <td>The Garden Oasis</td>\n",
       "      <td>Harlem</td>\n",
       "      <td>10</td>\n",
       "      <td>92.0</td>\n",
       "      <td>https://a0.muscache.com/im/pictures/6fae5362-9...</td>\n",
       "      <td>10027</td>\n",
       "      <td>1.0</td>\n",
       "      <td>3.0</td>\n",
       "    </tr>\n",
       "    <tr>\n",
       "      <th>3</th>\n",
       "      <td>13418779</td>\n",
       "      <td>6.620073</td>\n",
       "      <td>House</td>\n",
       "      <td>Entire home/apt</td>\n",
       "      <td>{TV,\"Cable TV\",Internet,\"Wireless Internet\",Ki...</td>\n",
       "      <td>4</td>\n",
       "      <td>1.0</td>\n",
       "      <td>Real Bed</td>\n",
       "      <td>flexible</td>\n",
       "      <td>True</td>\n",
       "      <td>...</td>\n",
       "      <td>37.772004</td>\n",
       "      <td>-122.431619</td>\n",
       "      <td>Beautiful Flat in the Heart of SF!</td>\n",
       "      <td>Lower Haight</td>\n",
       "      <td>0</td>\n",
       "      <td>NaN</td>\n",
       "      <td>https://a0.muscache.com/im/pictures/72208dad-9...</td>\n",
       "      <td>94117.0</td>\n",
       "      <td>2.0</td>\n",
       "      <td>2.0</td>\n",
       "    </tr>\n",
       "    <tr>\n",
       "      <th>4</th>\n",
       "      <td>3808709</td>\n",
       "      <td>4.744932</td>\n",
       "      <td>Apartment</td>\n",
       "      <td>Entire home/apt</td>\n",
       "      <td>{TV,Internet,\"Wireless Internet\",\"Air conditio...</td>\n",
       "      <td>2</td>\n",
       "      <td>1.0</td>\n",
       "      <td>Real Bed</td>\n",
       "      <td>moderate</td>\n",
       "      <td>True</td>\n",
       "      <td>...</td>\n",
       "      <td>38.925627</td>\n",
       "      <td>-77.034596</td>\n",
       "      <td>Great studio in midtown DC</td>\n",
       "      <td>Columbia Heights</td>\n",
       "      <td>4</td>\n",
       "      <td>40.0</td>\n",
       "      <td>NaN</td>\n",
       "      <td>20009</td>\n",
       "      <td>0.0</td>\n",
       "      <td>1.0</td>\n",
       "    </tr>\n",
       "  </tbody>\n",
       "</table>\n",
       "<p>5 rows × 29 columns</p>\n",
       "</div>"
      ],
      "text/plain": [
       "         id  log_price property_type        room_type  \\\n",
       "0   6901257   5.010635     Apartment  Entire home/apt   \n",
       "1   6304928   5.129899     Apartment  Entire home/apt   \n",
       "2   7919400   4.976734     Apartment  Entire home/apt   \n",
       "3  13418779   6.620073         House  Entire home/apt   \n",
       "4   3808709   4.744932     Apartment  Entire home/apt   \n",
       "\n",
       "                                           amenities  accommodates  bathrooms  \\\n",
       "0  {\"Wireless Internet\",\"Air conditioning\",Kitche...             3        1.0   \n",
       "1  {\"Wireless Internet\",\"Air conditioning\",Kitche...             7        1.0   \n",
       "2  {TV,\"Cable TV\",\"Wireless Internet\",\"Air condit...             5        1.0   \n",
       "3  {TV,\"Cable TV\",Internet,\"Wireless Internet\",Ki...             4        1.0   \n",
       "4  {TV,Internet,\"Wireless Internet\",\"Air conditio...             2        1.0   \n",
       "\n",
       "   bed_type cancellation_policy  cleaning_fee  ...   latitude   longitude  \\\n",
       "0  Real Bed              strict          True  ...  40.696524  -73.991617   \n",
       "1  Real Bed              strict          True  ...  40.766115  -73.989040   \n",
       "2  Real Bed            moderate          True  ...  40.808110  -73.943756   \n",
       "3  Real Bed            flexible          True  ...  37.772004 -122.431619   \n",
       "4  Real Bed            moderate          True  ...  38.925627  -77.034596   \n",
       "\n",
       "                                       name     neighbourhood  \\\n",
       "0            Beautiful brownstone 1-bedroom  Brooklyn Heights   \n",
       "1  Superb 3BR Apt Located Near Times Square    Hell's Kitchen   \n",
       "2                          The Garden Oasis            Harlem   \n",
       "3        Beautiful Flat in the Heart of SF!      Lower Haight   \n",
       "4                Great studio in midtown DC  Columbia Heights   \n",
       "\n",
       "  number_of_reviews review_scores_rating  \\\n",
       "0                 2                100.0   \n",
       "1                 6                 93.0   \n",
       "2                10                 92.0   \n",
       "3                 0                  NaN   \n",
       "4                 4                 40.0   \n",
       "\n",
       "                                       thumbnail_url  zipcode bedrooms  beds  \n",
       "0  https://a0.muscache.com/im/pictures/6d7cbbf7-c...    11201      1.0   1.0  \n",
       "1  https://a0.muscache.com/im/pictures/348a55fe-4...    10019      3.0   3.0  \n",
       "2  https://a0.muscache.com/im/pictures/6fae5362-9...    10027      1.0   3.0  \n",
       "3  https://a0.muscache.com/im/pictures/72208dad-9...  94117.0      2.0   2.0  \n",
       "4                                                NaN    20009      0.0   1.0  \n",
       "\n",
       "[5 rows x 29 columns]"
      ]
     },
     "execution_count": 89,
     "metadata": {},
     "output_type": "execute_result"
    }
   ],
   "source": [
    "df.head()"
   ]
  },
  {
   "cell_type": "code",
   "execution_count": 90,
   "metadata": {},
   "outputs": [
    {
     "name": "stdout",
     "output_type": "stream",
     "text": [
      "<class 'pandas.core.frame.DataFrame'>\n",
      "RangeIndex: 74111 entries, 0 to 74110\n",
      "Data columns (total 29 columns):\n",
      " #   Column                  Non-Null Count  Dtype  \n",
      "---  ------                  --------------  -----  \n",
      " 0   id                      74111 non-null  int64  \n",
      " 1   log_price               74111 non-null  float64\n",
      " 2   property_type           74111 non-null  object \n",
      " 3   room_type               74111 non-null  object \n",
      " 4   amenities               74111 non-null  object \n",
      " 5   accommodates            74111 non-null  int64  \n",
      " 6   bathrooms               73911 non-null  float64\n",
      " 7   bed_type                74111 non-null  object \n",
      " 8   cancellation_policy     74111 non-null  object \n",
      " 9   cleaning_fee            74111 non-null  bool   \n",
      " 10  city                    74111 non-null  object \n",
      " 11  description             74111 non-null  object \n",
      " 12  first_review            58247 non-null  object \n",
      " 13  host_has_profile_pic    73923 non-null  object \n",
      " 14  host_identity_verified  73923 non-null  object \n",
      " 15  host_response_rate      55812 non-null  object \n",
      " 16  host_since              73923 non-null  object \n",
      " 17  instant_bookable        74111 non-null  object \n",
      " 18  last_review             58284 non-null  object \n",
      " 19  latitude                74111 non-null  float64\n",
      " 20  longitude               74111 non-null  float64\n",
      " 21  name                    74111 non-null  object \n",
      " 22  neighbourhood           67239 non-null  object \n",
      " 23  number_of_reviews       74111 non-null  int64  \n",
      " 24  review_scores_rating    57389 non-null  float64\n",
      " 25  thumbnail_url           65895 non-null  object \n",
      " 26  zipcode                 73145 non-null  object \n",
      " 27  bedrooms                74020 non-null  float64\n",
      " 28  beds                    73980 non-null  float64\n",
      "dtypes: bool(1), float64(7), int64(3), object(18)\n",
      "memory usage: 15.9+ MB\n"
     ]
    }
   ],
   "source": [
    "df.info()"
   ]
  },
  {
   "cell_type": "code",
   "execution_count": 123,
   "metadata": {},
   "outputs": [],
   "source": [
    "def fill_zip(df):\n",
    "    geolocator = Nominatim(user_agent=\"airbnb_predictor\")\n",
    "    for i in range(0, len(df['zipcode'])):\n",
    "        if not(len(str(df['zipcode'][i])) == 5):\n",
    "            location = geolocator.reverse((df['latitude'][i], df['longitude'][i]))\n",
    "            if 'postcode' in location.raw['address']:\n",
    "                df['zipcode'][i] = location.raw['address']['postcode'][:5]\n",
    "            else:\n",
    "                df['zipcode'][i] = np.NaN"
   ]
  },
  {
   "cell_type": "code",
   "execution_count": 124,
   "metadata": {},
   "outputs": [
    {
     "name": "stderr",
     "output_type": "stream",
     "text": [
      "<ipython-input-123-2885546a046d>:7: SettingWithCopyWarning: \n",
      "A value is trying to be set on a copy of a slice from a DataFrame\n",
      "\n",
      "See the caveats in the documentation: https://pandas.pydata.org/pandas-docs/stable/user_guide/indexing.html#returning-a-view-versus-a-copy\n",
      "  df['zipcode'][i] = location.raw['address']['postcode'][:5]\n",
      "<ipython-input-123-2885546a046d>:9: SettingWithCopyWarning: \n",
      "A value is trying to be set on a copy of a slice from a DataFrame\n",
      "\n",
      "See the caveats in the documentation: https://pandas.pydata.org/pandas-docs/stable/user_guide/indexing.html#returning-a-view-versus-a-copy\n",
      "  df['zipcode'][i] = np.NaN\n"
     ]
    }
   ],
   "source": [
    "fill_zip(df)"
   ]
  },
  {
   "cell_type": "code",
   "execution_count": 139,
   "metadata": {
    "scrolled": false
   },
   "outputs": [
    {
     "data": {
      "text/html": [
       "<div>\n",
       "<style scoped>\n",
       "    .dataframe tbody tr th:only-of-type {\n",
       "        vertical-align: middle;\n",
       "    }\n",
       "\n",
       "    .dataframe tbody tr th {\n",
       "        vertical-align: top;\n",
       "    }\n",
       "\n",
       "    .dataframe thead th {\n",
       "        text-align: right;\n",
       "    }\n",
       "</style>\n",
       "<table border=\"1\" class=\"dataframe\">\n",
       "  <thead>\n",
       "    <tr style=\"text-align: right;\">\n",
       "      <th></th>\n",
       "      <th>id</th>\n",
       "      <th>log_price</th>\n",
       "      <th>property_type</th>\n",
       "      <th>room_type</th>\n",
       "      <th>amenities</th>\n",
       "      <th>accommodates</th>\n",
       "      <th>bathrooms</th>\n",
       "      <th>bed_type</th>\n",
       "      <th>cancellation_policy</th>\n",
       "      <th>cleaning_fee</th>\n",
       "      <th>...</th>\n",
       "      <th>latitude</th>\n",
       "      <th>longitude</th>\n",
       "      <th>name</th>\n",
       "      <th>neighbourhood</th>\n",
       "      <th>number_of_reviews</th>\n",
       "      <th>review_scores_rating</th>\n",
       "      <th>thumbnail_url</th>\n",
       "      <th>zipcode</th>\n",
       "      <th>bedrooms</th>\n",
       "      <th>beds</th>\n",
       "    </tr>\n",
       "  </thead>\n",
       "  <tbody>\n",
       "    <tr>\n",
       "      <th>251</th>\n",
       "      <td>18125983</td>\n",
       "      <td>5.521461</td>\n",
       "      <td>House</td>\n",
       "      <td>Entire home/apt</td>\n",
       "      <td>{TV,\"Cable TV\",Internet,\"Wireless Internet\",\"A...</td>\n",
       "      <td>2</td>\n",
       "      <td>1.0</td>\n",
       "      <td>Real Bed</td>\n",
       "      <td>strict</td>\n",
       "      <td>True</td>\n",
       "      <td>...</td>\n",
       "      <td>34.017454</td>\n",
       "      <td>-118.818103</td>\n",
       "      <td>Cozy Cottage across from the Beach</td>\n",
       "      <td>Malibu</td>\n",
       "      <td>36</td>\n",
       "      <td>99.0</td>\n",
       "      <td>https://a0.muscache.com/im/pictures/107125853/...</td>\n",
       "      <td>NaN</td>\n",
       "      <td>1.0</td>\n",
       "      <td>1.0</td>\n",
       "    </tr>\n",
       "    <tr>\n",
       "      <th>429</th>\n",
       "      <td>8741446</td>\n",
       "      <td>4.859812</td>\n",
       "      <td>Apartment</td>\n",
       "      <td>Entire home/apt</td>\n",
       "      <td>{TV,\"Cable TV\",Internet,\"Wireless Internet\",\"A...</td>\n",
       "      <td>3</td>\n",
       "      <td>1.0</td>\n",
       "      <td>Real Bed</td>\n",
       "      <td>strict</td>\n",
       "      <td>True</td>\n",
       "      <td>...</td>\n",
       "      <td>42.355478</td>\n",
       "      <td>-71.058088</td>\n",
       "      <td>Chic 1BR in Downtown Boston</td>\n",
       "      <td>Downtown Crossing</td>\n",
       "      <td>15</td>\n",
       "      <td>94.0</td>\n",
       "      <td>https://a0.muscache.com/im/pictures/6353b8e7-e...</td>\n",
       "      <td>NaN</td>\n",
       "      <td>1.0</td>\n",
       "      <td>2.0</td>\n",
       "    </tr>\n",
       "    <tr>\n",
       "      <th>449</th>\n",
       "      <td>17384804</td>\n",
       "      <td>4.905275</td>\n",
       "      <td>Apartment</td>\n",
       "      <td>Entire home/apt</td>\n",
       "      <td>{TV,\"Cable TV\",Internet,\"Wireless Internet\",\"A...</td>\n",
       "      <td>2</td>\n",
       "      <td>1.0</td>\n",
       "      <td>Real Bed</td>\n",
       "      <td>moderate</td>\n",
       "      <td>True</td>\n",
       "      <td>...</td>\n",
       "      <td>40.804206</td>\n",
       "      <td>-73.943019</td>\n",
       "      <td>Great Studio in the heart of Harlem</td>\n",
       "      <td>Harlem</td>\n",
       "      <td>135</td>\n",
       "      <td>93.0</td>\n",
       "      <td>https://a0.muscache.com/im/pictures/c758765b-b...</td>\n",
       "      <td>NaN</td>\n",
       "      <td>0.0</td>\n",
       "      <td>1.0</td>\n",
       "    </tr>\n",
       "    <tr>\n",
       "      <th>2615</th>\n",
       "      <td>8485057</td>\n",
       "      <td>5.480639</td>\n",
       "      <td>House</td>\n",
       "      <td>Entire home/apt</td>\n",
       "      <td>{TV,\"Cable TV\",Internet,\"Wireless Internet\",\"A...</td>\n",
       "      <td>8</td>\n",
       "      <td>2.5</td>\n",
       "      <td>Real Bed</td>\n",
       "      <td>strict</td>\n",
       "      <td>True</td>\n",
       "      <td>...</td>\n",
       "      <td>34.112518</td>\n",
       "      <td>-118.337595</td>\n",
       "      <td>HUGE 3+3 VIEWS 2200sf Hollywood Hts</td>\n",
       "      <td>Hollywood Hills</td>\n",
       "      <td>30</td>\n",
       "      <td>92.0</td>\n",
       "      <td>https://a0.muscache.com/im/pictures/23924433/5...</td>\n",
       "      <td>NaN</td>\n",
       "      <td>3.0</td>\n",
       "      <td>3.0</td>\n",
       "    </tr>\n",
       "    <tr>\n",
       "      <th>3061</th>\n",
       "      <td>2927781</td>\n",
       "      <td>4.682131</td>\n",
       "      <td>Condominium</td>\n",
       "      <td>Entire home/apt</td>\n",
       "      <td>{TV,Internet,\"Wireless Internet\",Kitchen,Heati...</td>\n",
       "      <td>2</td>\n",
       "      <td>1.0</td>\n",
       "      <td>Real Bed</td>\n",
       "      <td>strict</td>\n",
       "      <td>True</td>\n",
       "      <td>...</td>\n",
       "      <td>37.763559</td>\n",
       "      <td>-122.445390</td>\n",
       "      <td>Serene, soaring views, near Haight</td>\n",
       "      <td>Haight-Ashbury</td>\n",
       "      <td>4</td>\n",
       "      <td>95.0</td>\n",
       "      <td>https://a0.muscache.com/im/pictures/22677483/6...</td>\n",
       "      <td>NaN</td>\n",
       "      <td>1.0</td>\n",
       "      <td>1.0</td>\n",
       "    </tr>\n",
       "    <tr>\n",
       "      <th>...</th>\n",
       "      <td>...</td>\n",
       "      <td>...</td>\n",
       "      <td>...</td>\n",
       "      <td>...</td>\n",
       "      <td>...</td>\n",
       "      <td>...</td>\n",
       "      <td>...</td>\n",
       "      <td>...</td>\n",
       "      <td>...</td>\n",
       "      <td>...</td>\n",
       "      <td>...</td>\n",
       "      <td>...</td>\n",
       "      <td>...</td>\n",
       "      <td>...</td>\n",
       "      <td>...</td>\n",
       "      <td>...</td>\n",
       "      <td>...</td>\n",
       "      <td>...</td>\n",
       "      <td>...</td>\n",
       "      <td>...</td>\n",
       "      <td>...</td>\n",
       "    </tr>\n",
       "    <tr>\n",
       "      <th>51071</th>\n",
       "      <td>16040801</td>\n",
       "      <td>4.595120</td>\n",
       "      <td>Apartment</td>\n",
       "      <td>Entire home/apt</td>\n",
       "      <td>{Internet,\"Wireless Internet\",\"Air conditionin...</td>\n",
       "      <td>3</td>\n",
       "      <td>1.0</td>\n",
       "      <td>Real Bed</td>\n",
       "      <td>strict</td>\n",
       "      <td>True</td>\n",
       "      <td>...</td>\n",
       "      <td>40.685258</td>\n",
       "      <td>-73.971541</td>\n",
       "      <td>Bright Private Apartment w/ Manhattan Views</td>\n",
       "      <td>Fort Greene</td>\n",
       "      <td>9</td>\n",
       "      <td>88.0</td>\n",
       "      <td>https://a0.muscache.com/im/pictures/54583374/f...</td>\n",
       "      <td>NaN</td>\n",
       "      <td>1.0</td>\n",
       "      <td>2.0</td>\n",
       "    </tr>\n",
       "    <tr>\n",
       "      <th>51243</th>\n",
       "      <td>9367337</td>\n",
       "      <td>5.111988</td>\n",
       "      <td>Apartment</td>\n",
       "      <td>Entire home/apt</td>\n",
       "      <td>{TV,Internet,\"Wireless Internet\",\"Air conditio...</td>\n",
       "      <td>2</td>\n",
       "      <td>1.0</td>\n",
       "      <td>Real Bed</td>\n",
       "      <td>strict</td>\n",
       "      <td>True</td>\n",
       "      <td>...</td>\n",
       "      <td>34.101330</td>\n",
       "      <td>-118.325859</td>\n",
       "      <td>Amazing W Hollywood studio w/ view!</td>\n",
       "      <td>NaN</td>\n",
       "      <td>0</td>\n",
       "      <td>NaN</td>\n",
       "      <td>https://a0.muscache.com/im/pictures/fc9e0915-6...</td>\n",
       "      <td>NaN</td>\n",
       "      <td>0.0</td>\n",
       "      <td>2.0</td>\n",
       "    </tr>\n",
       "    <tr>\n",
       "      <th>51534</th>\n",
       "      <td>160597</td>\n",
       "      <td>5.616771</td>\n",
       "      <td>Condominium</td>\n",
       "      <td>Entire home/apt</td>\n",
       "      <td>{TV,\"Cable TV\",Internet,\"Wireless Internet\",\"A...</td>\n",
       "      <td>2</td>\n",
       "      <td>1.0</td>\n",
       "      <td>Real Bed</td>\n",
       "      <td>moderate</td>\n",
       "      <td>False</td>\n",
       "      <td>...</td>\n",
       "      <td>42.359945</td>\n",
       "      <td>-71.062060</td>\n",
       "      <td>Beacon Hill, Boston</td>\n",
       "      <td>Beacon Hill</td>\n",
       "      <td>19</td>\n",
       "      <td>100.0</td>\n",
       "      <td>https://a0.muscache.com/im/pictures/b7275772-3...</td>\n",
       "      <td>NaN</td>\n",
       "      <td>1.0</td>\n",
       "      <td>1.0</td>\n",
       "    </tr>\n",
       "    <tr>\n",
       "      <th>51808</th>\n",
       "      <td>9586718</td>\n",
       "      <td>5.655992</td>\n",
       "      <td>Apartment</td>\n",
       "      <td>Entire home/apt</td>\n",
       "      <td>{TV,Internet,\"Wireless Internet\",\"Air conditio...</td>\n",
       "      <td>2</td>\n",
       "      <td>1.0</td>\n",
       "      <td>Real Bed</td>\n",
       "      <td>strict</td>\n",
       "      <td>True</td>\n",
       "      <td>...</td>\n",
       "      <td>40.730031</td>\n",
       "      <td>-73.990658</td>\n",
       "      <td>1 BR apt in best neighborhood with lots of light</td>\n",
       "      <td>East Village</td>\n",
       "      <td>1</td>\n",
       "      <td>100.0</td>\n",
       "      <td>NaN</td>\n",
       "      <td>NaN</td>\n",
       "      <td>1.0</td>\n",
       "      <td>1.0</td>\n",
       "    </tr>\n",
       "    <tr>\n",
       "      <th>54807</th>\n",
       "      <td>887038</td>\n",
       "      <td>4.394449</td>\n",
       "      <td>Apartment</td>\n",
       "      <td>Private room</td>\n",
       "      <td>{\"Wireless Internet\",\"Air conditioning\",Kitche...</td>\n",
       "      <td>2</td>\n",
       "      <td>1.0</td>\n",
       "      <td>Real Bed</td>\n",
       "      <td>strict</td>\n",
       "      <td>True</td>\n",
       "      <td>...</td>\n",
       "      <td>40.751676</td>\n",
       "      <td>-73.993760</td>\n",
       "      <td>Luxury High-Rise Manhattan Apt</td>\n",
       "      <td>Chelsea</td>\n",
       "      <td>0</td>\n",
       "      <td>NaN</td>\n",
       "      <td>https://a0.muscache.com/im/pictures/ad1d9da3-2...</td>\n",
       "      <td>NaN</td>\n",
       "      <td>1.0</td>\n",
       "      <td>1.0</td>\n",
       "    </tr>\n",
       "  </tbody>\n",
       "</table>\n",
       "<p>139 rows × 29 columns</p>\n",
       "</div>"
      ],
      "text/plain": [
       "             id  log_price property_type        room_type  \\\n",
       "251    18125983   5.521461         House  Entire home/apt   \n",
       "429     8741446   4.859812     Apartment  Entire home/apt   \n",
       "449    17384804   4.905275     Apartment  Entire home/apt   \n",
       "2615    8485057   5.480639         House  Entire home/apt   \n",
       "3061    2927781   4.682131   Condominium  Entire home/apt   \n",
       "...         ...        ...           ...              ...   \n",
       "51071  16040801   4.595120     Apartment  Entire home/apt   \n",
       "51243   9367337   5.111988     Apartment  Entire home/apt   \n",
       "51534    160597   5.616771   Condominium  Entire home/apt   \n",
       "51808   9586718   5.655992     Apartment  Entire home/apt   \n",
       "54807    887038   4.394449     Apartment     Private room   \n",
       "\n",
       "                                               amenities  accommodates  \\\n",
       "251    {TV,\"Cable TV\",Internet,\"Wireless Internet\",\"A...             2   \n",
       "429    {TV,\"Cable TV\",Internet,\"Wireless Internet\",\"A...             3   \n",
       "449    {TV,\"Cable TV\",Internet,\"Wireless Internet\",\"A...             2   \n",
       "2615   {TV,\"Cable TV\",Internet,\"Wireless Internet\",\"A...             8   \n",
       "3061   {TV,Internet,\"Wireless Internet\",Kitchen,Heati...             2   \n",
       "...                                                  ...           ...   \n",
       "51071  {Internet,\"Wireless Internet\",\"Air conditionin...             3   \n",
       "51243  {TV,Internet,\"Wireless Internet\",\"Air conditio...             2   \n",
       "51534  {TV,\"Cable TV\",Internet,\"Wireless Internet\",\"A...             2   \n",
       "51808  {TV,Internet,\"Wireless Internet\",\"Air conditio...             2   \n",
       "54807  {\"Wireless Internet\",\"Air conditioning\",Kitche...             2   \n",
       "\n",
       "       bathrooms  bed_type cancellation_policy  cleaning_fee  ...   latitude  \\\n",
       "251          1.0  Real Bed              strict          True  ...  34.017454   \n",
       "429          1.0  Real Bed              strict          True  ...  42.355478   \n",
       "449          1.0  Real Bed            moderate          True  ...  40.804206   \n",
       "2615         2.5  Real Bed              strict          True  ...  34.112518   \n",
       "3061         1.0  Real Bed              strict          True  ...  37.763559   \n",
       "...          ...       ...                 ...           ...  ...        ...   \n",
       "51071        1.0  Real Bed              strict          True  ...  40.685258   \n",
       "51243        1.0  Real Bed              strict          True  ...  34.101330   \n",
       "51534        1.0  Real Bed            moderate         False  ...  42.359945   \n",
       "51808        1.0  Real Bed              strict          True  ...  40.730031   \n",
       "54807        1.0  Real Bed              strict          True  ...  40.751676   \n",
       "\n",
       "        longitude                                              name  \\\n",
       "251   -118.818103                Cozy Cottage across from the Beach   \n",
       "429    -71.058088                       Chic 1BR in Downtown Boston   \n",
       "449    -73.943019               Great Studio in the heart of Harlem   \n",
       "2615  -118.337595               HUGE 3+3 VIEWS 2200sf Hollywood Hts   \n",
       "3061  -122.445390                Serene, soaring views, near Haight   \n",
       "...           ...                                               ...   \n",
       "51071  -73.971541       Bright Private Apartment w/ Manhattan Views   \n",
       "51243 -118.325859               Amazing W Hollywood studio w/ view!   \n",
       "51534  -71.062060                               Beacon Hill, Boston   \n",
       "51808  -73.990658  1 BR apt in best neighborhood with lots of light   \n",
       "54807  -73.993760                    Luxury High-Rise Manhattan Apt   \n",
       "\n",
       "           neighbourhood number_of_reviews review_scores_rating  \\\n",
       "251               Malibu                36                 99.0   \n",
       "429    Downtown Crossing                15                 94.0   \n",
       "449               Harlem               135                 93.0   \n",
       "2615     Hollywood Hills                30                 92.0   \n",
       "3061      Haight-Ashbury                 4                 95.0   \n",
       "...                  ...               ...                  ...   \n",
       "51071        Fort Greene                 9                 88.0   \n",
       "51243                NaN                 0                  NaN   \n",
       "51534        Beacon Hill                19                100.0   \n",
       "51808       East Village                 1                100.0   \n",
       "54807            Chelsea                 0                  NaN   \n",
       "\n",
       "                                           thumbnail_url zipcode bedrooms  \\\n",
       "251    https://a0.muscache.com/im/pictures/107125853/...     NaN      1.0   \n",
       "429    https://a0.muscache.com/im/pictures/6353b8e7-e...     NaN      1.0   \n",
       "449    https://a0.muscache.com/im/pictures/c758765b-b...     NaN      0.0   \n",
       "2615   https://a0.muscache.com/im/pictures/23924433/5...     NaN      3.0   \n",
       "3061   https://a0.muscache.com/im/pictures/22677483/6...     NaN      1.0   \n",
       "...                                                  ...     ...      ...   \n",
       "51071  https://a0.muscache.com/im/pictures/54583374/f...     NaN      1.0   \n",
       "51243  https://a0.muscache.com/im/pictures/fc9e0915-6...     NaN      0.0   \n",
       "51534  https://a0.muscache.com/im/pictures/b7275772-3...     NaN      1.0   \n",
       "51808                                                NaN     NaN      1.0   \n",
       "54807  https://a0.muscache.com/im/pictures/ad1d9da3-2...     NaN      1.0   \n",
       "\n",
       "       beds  \n",
       "251     1.0  \n",
       "429     2.0  \n",
       "449     1.0  \n",
       "2615    3.0  \n",
       "3061    1.0  \n",
       "...     ...  \n",
       "51071   2.0  \n",
       "51243   2.0  \n",
       "51534   1.0  \n",
       "51808   1.0  \n",
       "54807   1.0  \n",
       "\n",
       "[139 rows x 29 columns]"
      ]
     },
     "execution_count": 139,
     "metadata": {},
     "output_type": "execute_result"
    }
   ],
   "source": [
    "df[df['zipcode'].isna()]"
   ]
  },
  {
   "cell_type": "code",
   "execution_count": 197,
   "metadata": {},
   "outputs": [],
   "source": [
    "def clean(data_frame):\n",
    "    temp_df = data_frame.copy()\n",
    "    temp_df.drop('id', axis=1, inplace=True)\n",
    "    temp_df.drop('amenities', axis=1, inplace=True)\n",
    "    temp_df.drop('name', axis=1, inplace=True)\n",
    "    temp_df.drop('neighbourhood', axis=1, inplace=True)\n",
    "    temp_df.drop('thumbnail_url', axis=1, inplace=True)\n",
    "    temp_df.drop('description', axis=1, inplace=True)\n",
    "    temp_df.drop('host_has_profile_pic', axis=1, inplace=True)\n",
    "    temp_df.drop('host_identity_verified', axis=1, inplace=True)\n",
    "    temp_df.drop('host_response_rate', axis=1, inplace=True)\n",
    "    temp_df.drop('host_since', axis=1, inplace=True)\n",
    "    temp_df.drop('first_review', axis=1, inplace=True)\n",
    "    temp_df.drop('last_review', axis=1, inplace=True)\n",
    "    temp_df.drop('latitude', axis=1, inplace=True)\n",
    "    temp_df.drop('longitude', axis=1, inplace=True)\n",
    "    temp_df.drop('number_of_reviews', axis=1, inplace=True)\n",
    "    temp_df.drop('beds', axis=1, inplace=True)\n",
    "    temp_df.drop('cancellation_policy', axis=1, inplace=True)\n",
    "    temp_df.drop('cleaning_fee', axis=1, inplace=True)\n",
    "    temp_df.drop('review_scores_rating', axis=1, inplace=True)\n",
    "    temp_df.drop('instant_bookable', axis=1, inplace=True)\n",
    "    temp_df.drop('bed_type', axis=1, inplace=True)\n",
    "    temp_df.drop('city', axis=1, inplace=True)\n",
    "    temp_df['price'] = temp_df['log_price'].apply(lambda x: np.exp(x))\n",
    "    temp_df.drop('log_price', axis=1, inplace=True)\n",
    "    temp_df = temp_df[temp_df['zipcode'].notna()]\n",
    "    temp_df['zipcode'] = temp_df['zipcode'].astype(int)\n",
    "    \n",
    "    return temp_df"
   ]
  },
  {
   "cell_type": "code",
   "execution_count": 198,
   "metadata": {},
   "outputs": [],
   "source": [
    "clean_df = clean(df)"
   ]
  },
  {
   "cell_type": "code",
   "execution_count": 199,
   "metadata": {},
   "outputs": [
    {
     "data": {
      "text/html": [
       "<div>\n",
       "<style scoped>\n",
       "    .dataframe tbody tr th:only-of-type {\n",
       "        vertical-align: middle;\n",
       "    }\n",
       "\n",
       "    .dataframe tbody tr th {\n",
       "        vertical-align: top;\n",
       "    }\n",
       "\n",
       "    .dataframe thead th {\n",
       "        text-align: right;\n",
       "    }\n",
       "</style>\n",
       "<table border=\"1\" class=\"dataframe\">\n",
       "  <thead>\n",
       "    <tr style=\"text-align: right;\">\n",
       "      <th></th>\n",
       "      <th>property_type</th>\n",
       "      <th>room_type</th>\n",
       "      <th>accommodates</th>\n",
       "      <th>bathrooms</th>\n",
       "      <th>zipcode</th>\n",
       "      <th>bedrooms</th>\n",
       "      <th>price</th>\n",
       "    </tr>\n",
       "  </thead>\n",
       "  <tbody>\n",
       "    <tr>\n",
       "      <th>0</th>\n",
       "      <td>Apartment</td>\n",
       "      <td>Entire home/apt</td>\n",
       "      <td>3</td>\n",
       "      <td>1.0</td>\n",
       "      <td>11201</td>\n",
       "      <td>1.0</td>\n",
       "      <td>150.0</td>\n",
       "    </tr>\n",
       "    <tr>\n",
       "      <th>1</th>\n",
       "      <td>Apartment</td>\n",
       "      <td>Entire home/apt</td>\n",
       "      <td>7</td>\n",
       "      <td>1.0</td>\n",
       "      <td>10019</td>\n",
       "      <td>3.0</td>\n",
       "      <td>169.0</td>\n",
       "    </tr>\n",
       "    <tr>\n",
       "      <th>2</th>\n",
       "      <td>Apartment</td>\n",
       "      <td>Entire home/apt</td>\n",
       "      <td>5</td>\n",
       "      <td>1.0</td>\n",
       "      <td>10027</td>\n",
       "      <td>1.0</td>\n",
       "      <td>145.0</td>\n",
       "    </tr>\n",
       "    <tr>\n",
       "      <th>3</th>\n",
       "      <td>House</td>\n",
       "      <td>Entire home/apt</td>\n",
       "      <td>4</td>\n",
       "      <td>1.0</td>\n",
       "      <td>94143</td>\n",
       "      <td>2.0</td>\n",
       "      <td>750.0</td>\n",
       "    </tr>\n",
       "    <tr>\n",
       "      <th>4</th>\n",
       "      <td>Apartment</td>\n",
       "      <td>Entire home/apt</td>\n",
       "      <td>2</td>\n",
       "      <td>1.0</td>\n",
       "      <td>20009</td>\n",
       "      <td>0.0</td>\n",
       "      <td>115.0</td>\n",
       "    </tr>\n",
       "  </tbody>\n",
       "</table>\n",
       "</div>"
      ],
      "text/plain": [
       "  property_type        room_type  accommodates  bathrooms  zipcode  bedrooms  \\\n",
       "0     Apartment  Entire home/apt             3        1.0    11201       1.0   \n",
       "1     Apartment  Entire home/apt             7        1.0    10019       3.0   \n",
       "2     Apartment  Entire home/apt             5        1.0    10027       1.0   \n",
       "3         House  Entire home/apt             4        1.0    94143       2.0   \n",
       "4     Apartment  Entire home/apt             2        1.0    20009       0.0   \n",
       "\n",
       "   price  \n",
       "0  150.0  \n",
       "1  169.0  \n",
       "2  145.0  \n",
       "3  750.0  \n",
       "4  115.0  "
      ]
     },
     "execution_count": 199,
     "metadata": {},
     "output_type": "execute_result"
    }
   ],
   "source": [
    "clean_df.head()"
   ]
  },
  {
   "cell_type": "code",
   "execution_count": 200,
   "metadata": {},
   "outputs": [
    {
     "name": "stdout",
     "output_type": "stream",
     "text": [
      "<class 'pandas.core.frame.DataFrame'>\n",
      "Int64Index: 73972 entries, 0 to 74110\n",
      "Data columns (total 7 columns):\n",
      " #   Column         Non-Null Count  Dtype  \n",
      "---  ------         --------------  -----  \n",
      " 0   property_type  73972 non-null  object \n",
      " 1   room_type      73972 non-null  object \n",
      " 2   accommodates   73972 non-null  int64  \n",
      " 3   bathrooms      73773 non-null  float64\n",
      " 4   zipcode        73972 non-null  int64  \n",
      " 5   bedrooms       73881 non-null  float64\n",
      " 6   price          73972 non-null  float64\n",
      "dtypes: float64(3), int64(2), object(2)\n",
      "memory usage: 4.5+ MB\n"
     ]
    }
   ],
   "source": [
    "clean_df.info()"
   ]
  },
  {
   "cell_type": "code",
   "execution_count": 201,
   "metadata": {},
   "outputs": [
    {
     "data": {
      "text/plain": [
       "array(['Entire home/apt', 'Private room', 'Shared room'], dtype=object)"
      ]
     },
     "execution_count": 201,
     "metadata": {},
     "output_type": "execute_result"
    }
   ],
   "source": [
    "clean_df['room_type'].unique()"
   ]
  },
  {
   "cell_type": "code",
   "execution_count": 202,
   "metadata": {},
   "outputs": [],
   "source": [
    "X = clean_df.drop('price', axis=1)\n",
    "y = clean_df['price']\n",
    "\n",
    "X_train, X_val, y_train, y_val = train_test_split(X, y, test_size=0.2, random_state=11)"
   ]
  },
  {
   "cell_type": "code",
   "execution_count": 178,
   "metadata": {},
   "outputs": [],
   "source": [
    "forest_model = make_pipeline(\n",
    "    OrdinalEncoder(),\n",
    "    SimpleImputer(strategy='most_frequent'),\n",
    "    RandomForestRegressor(random_state=11, n_jobs=8)\n",
    ")"
   ]
  },
  {
   "cell_type": "code",
   "execution_count": 179,
   "metadata": {},
   "outputs": [],
   "source": [
    "modifiers = {\n",
    "    'randomforestregressor__max_depth' : range(5, 101, 10),\n",
    "    'randomforestregressor__n_estimators' : range(50, 401, 50),\n",
    "    'randomforestregressor__max_samples' : np.arange(0.1, 1, 0.1)\n",
    "}\n",
    "\n",
    "gs_model = GridSearchCV(forest_model, param_grid=modifiers, cv=5, n_jobs=8, verbose=1)"
   ]
  },
  {
   "cell_type": "code",
   "execution_count": 180,
   "metadata": {},
   "outputs": [
    {
     "name": "stdout",
     "output_type": "stream",
     "text": [
      "Fitting 5 folds for each of 720 candidates, totalling 3600 fits\n"
     ]
    },
    {
     "name": "stderr",
     "output_type": "stream",
     "text": [
      "[Parallel(n_jobs=8)]: Using backend LokyBackend with 8 concurrent workers.\n",
      "[Parallel(n_jobs=8)]: Done  34 tasks      | elapsed:    9.5s\n",
      "[Parallel(n_jobs=8)]: Done 184 tasks      | elapsed:  1.2min\n",
      "[Parallel(n_jobs=8)]: Done 434 tasks      | elapsed:  3.9min\n",
      "[Parallel(n_jobs=8)]: Done 784 tasks      | elapsed: 10.7min\n",
      "[Parallel(n_jobs=8)]: Done 1234 tasks      | elapsed: 21.0min\n",
      "/home/cswizard/.local/lib/python3.8/site-packages/joblib/externals/loky/process_executor.py:688: UserWarning: A worker stopped while some jobs were given to the executor. This can be caused by a too short worker timeout or by a memory leak.\n",
      "  warnings.warn(\n",
      "[Parallel(n_jobs=8)]: Done 1784 tasks      | elapsed: 35.3min\n",
      "[Parallel(n_jobs=8)]: Done 2434 tasks      | elapsed: 50.9min\n",
      "[Parallel(n_jobs=8)]: Done 3184 tasks      | elapsed: 69.3min\n",
      "[Parallel(n_jobs=8)]: Done 3600 out of 3600 | elapsed: 80.3min finished\n"
     ]
    },
    {
     "data": {
      "text/plain": [
       "GridSearchCV(cv=5,\n",
       "             estimator=Pipeline(steps=[('ordinalencoder', OrdinalEncoder()),\n",
       "                                       ('simpleimputer',\n",
       "                                        SimpleImputer(strategy='most_frequent')),\n",
       "                                       ('randomforestregressor',\n",
       "                                        RandomForestRegressor(n_jobs=8,\n",
       "                                                              random_state=11))]),\n",
       "             n_jobs=8,\n",
       "             param_grid={'randomforestregressor__max_depth': range(5, 101, 10),\n",
       "                         'randomforestregressor__max_samples': array([0.1, 0.2, 0.3, 0.4, 0.5, 0.6, 0.7, 0.8, 0.9]),\n",
       "                         'randomforestregressor__n_estimators': range(50, 401, 50)},\n",
       "             verbose=1)"
      ]
     },
     "execution_count": 180,
     "metadata": {},
     "output_type": "execute_result"
    }
   ],
   "source": [
    "gs_model.fit(X_train, y_train)"
   ]
  },
  {
   "cell_type": "code",
   "execution_count": 181,
   "metadata": {},
   "outputs": [
    {
     "data": {
      "text/plain": [
       "0.49842460492934004"
      ]
     },
     "execution_count": 181,
     "metadata": {},
     "output_type": "execute_result"
    }
   ],
   "source": [
    "gs_model.best_score_"
   ]
  },
  {
   "cell_type": "code",
   "execution_count": 182,
   "metadata": {},
   "outputs": [
    {
     "data": {
      "text/plain": [
       "{'randomforestregressor__max_depth': 25,\n",
       " 'randomforestregressor__max_samples': 0.1,\n",
       " 'randomforestregressor__n_estimators': 350}"
      ]
     },
     "execution_count": 182,
     "metadata": {},
     "output_type": "execute_result"
    }
   ],
   "source": [
    "gs_model.best_params_"
   ]
  },
  {
   "cell_type": "code",
   "execution_count": 203,
   "metadata": {},
   "outputs": [],
   "source": [
    "model = make_pipeline(\n",
    "    OrdinalEncoder(),\n",
    "    SimpleImputer(strategy='most_frequent'),\n",
    "    RandomForestRegressor(random_state=11, n_jobs=8, max_depth=10, max_samples=0.3, n_estimators=320)\n",
    ")"
   ]
  },
  {
   "cell_type": "code",
   "execution_count": 204,
   "metadata": {},
   "outputs": [],
   "source": [
    "model.fit(X_train, y_train);"
   ]
  },
  {
   "cell_type": "code",
   "execution_count": 205,
   "metadata": {},
   "outputs": [
    {
     "data": {
      "text/plain": [
       "array([0.03530041, 0.10475276, 0.07617685, 0.23589784, 0.19738334,\n",
       "       0.35048879])"
      ]
     },
     "execution_count": 205,
     "metadata": {},
     "output_type": "execute_result"
    }
   ],
   "source": [
    "model.named_steps['randomforestregressor'].feature_importances_"
   ]
  },
  {
   "cell_type": "code",
   "execution_count": 206,
   "metadata": {},
   "outputs": [
    {
     "data": {
      "image/png": "[encoded data removed]",
      "text/plain": [
       "<Figure size 432x288 with 1 Axes>"
      ]
     },
     "metadata": {
      "needs_background": "light"
     },
     "output_type": "display_data"
    }
   ],
   "source": [
    "top = pd.Series(model.named_steps['randomforestregressor'].feature_importances_, index=model.named_steps['ordinalencoder'].get_feature_names())\n",
    "top_ten = top.sort_values(key=(lambda x:abs(x))).tail(13)\n",
    "\n",
    "plt.barh(top_ten.index, top_ten)\n",
    "plt.xlabel('Impact %')\n",
    "plt.ylabel('Feature')\n",
    "plt.show()"
   ]
  },
  {
   "cell_type": "code",
   "execution_count": 207,
   "metadata": {},
   "outputs": [
    {
     "name": "stdout",
     "output_type": "stream",
     "text": [
      "Train MAE: 56.827576490991866\n",
      "Train RMSE: 112.4029737181027\n"
     ]
    }
   ],
   "source": [
    "from sklearn.metrics import mean_absolute_error, mean_squared_error\n",
    "\n",
    "print('Train MAE:', mean_absolute_error(y_train, model.predict(X_train)))\n",
    "print('Train RMSE:', mean_squared_error(y_train, model.predict(X_train), squared=False))"
   ]
  },
  {
   "cell_type": "code",
   "execution_count": 208,
   "metadata": {},
   "outputs": [
    {
     "name": "stdout",
     "output_type": "stream",
     "text": [
      "Val MAE: 58.31713430759482\n",
      "Val RMSE: 117.99140881451045\n"
     ]
    }
   ],
   "source": [
    "print('Val MAE:', mean_absolute_error(y_val, model.predict(X_val)))\n",
    "print('Val RMSE:', mean_squared_error(y_val, model.predict(X_val), squared=False))"
   ]
  },
  {
   "cell_type": "code",
   "execution_count": 195,
   "metadata": {},
   "outputs": [
    {
     "name": "stdout",
     "output_type": "stream",
     "text": [
      "97.6868811250671\n"
     ]
    }
   ],
   "source": [
    "baseline = mean_absolute_error(y, [y.mean() for i in range(0, len(y))])\n",
    "print(baseline)"
   ]
  },
  {
   "cell_type": "code",
   "execution_count": 211,
   "metadata": {},
   "outputs": [
    {
     "data": {
      "text/plain": [
       "0.47844283161811785"
      ]
     },
     "execution_count": 211,
     "metadata": {},
     "output_type": "execute_result"
    }
   ],
   "source": [
    "model.score(X_val, y_val)"
   ]
  },
  {
   "cell_type": "code",
   "execution_count": 212,
   "metadata": {},
   "outputs": [
    {
     "data": {
      "text/plain": [
       "['model.joblib']"
      ]
     },
     "execution_count": 212,
     "metadata": {},
     "output_type": "execute_result"
    }
   ],
   "source": [
    "dump(model, 'model.joblib')"
   ]
  },
  {
   "cell_type": "code",
   "execution_count": null,
   "metadata": {},
   "outputs": [],
   "source": []
  }
 ],
 "metadata": {
  "kernelspec": {
   "display_name": "Python 3",
   "language": "python",
   "name": "python3"
  },
  "language_info": {
   "codemirror_mode": {
    "name": "ipython",
    "version": 3
   },
   "file_extension": ".py",
   "mimetype": "text/x-python",
   "name": "python",
   "nbconvert_exporter": "python",
   "pygments_lexer": "ipython3",
   "version": "3.8.5"
  }
 },
 "nbformat": 4,
 "nbformat_minor": 4
}
